{
 "cells": [
  {
   "cell_type": "code",
   "execution_count": null,
   "metadata": {},
   "outputs": [],
   "source": [
    "%pip install wikipedia langchain_core langchain-ollama langgraph"
   ]
  },
  {
   "cell_type": "code",
   "execution_count": null,
   "metadata": {},
   "outputs": [],
   "source": [
    "from typing import Literal\n",
    "from langchain_core.tools import tool\n",
    "\n",
    "@tool\n",
    "def get_weather(city: Literal[\"nyc\", \"sf\"]):\n",
    "    \"\"\"Use this to get weather information.\"\"\"\n",
    "    if city == \"nyc\":\n",
    "        return \"It might be cloudy in nyc\"\n",
    "    elif city == \"sf\":\n",
    "        return \"It's always sunny in sf\"\n",
    "    else:\n",
    "        raise AssertionError(\"Unknown city\")\n",
    "\n",
    "tools = [get_weather]\n",
    "\n",
    "\n"
   ]
  },
  {
   "cell_type": "code",
   "execution_count": null,
   "metadata": {},
   "outputs": [],
   "source": [
    "from langchain_ollama import ChatOllama \n",
    "from langgraph.prebuilt import create_react_agent\n",
    "model = ChatOllama(model=\"llama3.1\")  \n",
    "agent = create_react_agent(model, tools=tools)"
   ]
  },
  {
   "cell_type": "code",
   "execution_count": null,
   "metadata": {},
   "outputs": [],
   "source": [
    "def print_stream(stream):\n",
    "    for s in stream:\n",
    "        message = s[\"messages\"][-1]\n",
    "        if isinstance(message, tuple):\n",
    "            print(message)\n",
    "        else:\n",
    "            message.pretty_print()"
   ]
  },
  {
   "cell_type": "code",
   "execution_count": null,
   "metadata": {},
   "outputs": [],
   "source": [
    "inputs = {\"messages\": [(\"user\", \"What is the weather like in NYC?\")]}\n",
    "print_stream(agent.stream(inputs, stream_mode=\"values\"))"
   ]
  },
  {
   "cell_type": "code",
   "execution_count": null,
   "metadata": {},
   "outputs": [],
   "source": [
    "import wikipedia\n",
    "from langchain_core.tools import tool\n",
    "\n",
    "@tool\n",
    "# Define the Wikipedia search tool\n",
    "def wikipedia_search(query: str) -> str:\n",
    "    \"\"\"Search Wikipedia and return a summary of the first result.\"\"\"\n",
    "    try:\n",
    "        return wikipedia.summary(query, sentences=2)\n",
    "    except wikipedia.exceptions.DisambiguationError as e:\n",
    "        return f\"Multiple results found: {e.options[:5]}\"\n",
    "    except wikipedia.exceptions.PageError:\n",
    "        return \"No Wikipedia page found.\"\n",
    "    \n",
    "tools = [get_weather, wikipedia_search]"
   ]
  },
  {
   "cell_type": "code",
   "execution_count": null,
   "metadata": {},
   "outputs": [],
   "source": [
    "from langchain_ollama import ChatOllama \n",
    "from langgraph.prebuilt import create_react_agent\n",
    "model = ChatOllama(model=\"llama3.1\")  \n",
    "agent = create_react_agent(model, tools=tools)"
   ]
  },
  {
   "cell_type": "code",
   "execution_count": null,
   "metadata": {},
   "outputs": [],
   "source": [
    "inputs = {\"messages\": [(\"user\", \"Can you tell me about the Empire state building? and what is the weather like in there?\")]}\n",
    "print_stream(agent.stream(inputs, stream_mode=\"values\"))"
   ]
  },
  {
   "cell_type": "code",
   "execution_count": null,
   "metadata": {},
   "outputs": [],
   "source": [
    "from pydantic import BaseModel, Field\n",
    "\n",
    "\n",
    "class TripPlan(BaseModel):\n",
    "    \"\"\"Respond to the user in this format.\"\"\"\n",
    "    city: str =  Literal[\"New York City\", \"San Francisco\"]\n",
    "    weather: str = Field(description=\"The weather in the city\")\n",
    "    days_planned: list[str] = Field(description=\"List of days planned for the trip\")\n",
    "    activities: list[str] = Field(description=\"List of activities planned for the trip\")"
   ]
  },
  {
   "cell_type": "code",
   "execution_count": null,
   "metadata": {},
   "outputs": [],
   "source": [
    "from langchain_ollama import ChatOllama \n",
    "from langgraph.prebuilt import create_react_agent\n",
    "model = ChatOllama(model=\"llama3.1\")  \n",
    "agent = create_react_agent(model, tools=tools, response_format=TripPlan)\n",
    "inputs = {\"messages\": [(\"user\", \"Can you help me plan a trip for 3 day to New York City?\")]}\n",
    "response = agent.invoke(inputs)\n",
    "response[\"structured_response\"]\n"
   ]
  }
 ],
 "metadata": {
  "kernelspec": {
   "display_name": ".venv",
   "language": "python",
   "name": "python3"
  },
  "language_info": {
   "codemirror_mode": {
    "name": "ipython",
    "version": 3
   },
   "file_extension": ".py",
   "mimetype": "text/x-python",
   "name": "python",
   "nbconvert_exporter": "python",
   "pygments_lexer": "ipython3",
   "version": "3.13.1"
  }
 },
 "nbformat": 4,
 "nbformat_minor": 4
}
