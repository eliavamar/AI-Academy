{
 "cells": [
  {
   "cell_type": "code",
   "execution_count": null,
   "metadata": {},
   "outputs": [],
   "source": [
    "%pip install -qU langchain-ollama langchain-core"
   ]
  },
  {
   "cell_type": "code",
   "execution_count": null,
   "metadata": {},
   "outputs": [],
   "source": [
    "from langchain_ollama import OllamaEmbeddings\n",
    "\n",
    "embeddings = OllamaEmbeddings(\n",
    "    model=\"llama3.1\",\n",
    ")"
   ]
  },
  {
   "cell_type": "code",
   "execution_count": null,
   "metadata": {},
   "outputs": [],
   "source": [
    "# Create a vector store with multiple SAP-related texts\n",
    "from langchain_core.vectorstores import InMemoryVectorStore\n",
    "\n",
    "# Sample SAP-related texts\n",
    "texts = [\n",
    "    \"SAP is a leading enterprise resource planning (ERP) software provider.\",\n",
    "    \"SAP S/4HANA is an intelligent ERP suite designed for in-memory computing.\",\n",
    "    \"SAP Business Technology Platform (BTP) provides integration, data management, and analytics capabilities.\",\n",
    "    \"SAP Fiori enhances user experience with role-based, responsive, and simple UI design.\",\n",
    "    \"SAP ABAP is a programming language for developing applications within the SAP ecosystem.\",\n",
    "]\n",
    "\n",
    "# Initialize the vector store with the sample texts\n",
    "vectorstore = InMemoryVectorStore.from_texts(\n",
    "    texts,\n",
    "    embedding=embeddings,  # Ensure you have an embeddings model initialized\n",
    ")\n",
    "\n",
    "# Use the vector store as a retriever\n",
    "retriever = vectorstore.as_retriever()\n",
    "\n",
    "# Retrieve the most similar text based on a query\n",
    "retrieved_documents = retriever.invoke(\"What is SAP S/4HANA?\")\n",
    "\n",
    "# Show the retrieved document's content\n",
    "print(retrieved_documents[0].page_content)\n"
   ]
  }
 ],
 "metadata": {
  "kernelspec": {
   "display_name": ".venv",
   "language": "python",
   "name": "python3"
  },
  "language_info": {
   "codemirror_mode": {
    "name": "ipython",
    "version": 3
   },
   "file_extension": ".py",
   "mimetype": "text/x-python",
   "name": "python",
   "nbconvert_exporter": "python",
   "pygments_lexer": "ipython3",
   "version": "3.13.1"
  }
 },
 "nbformat": 4,
 "nbformat_minor": 2
}
