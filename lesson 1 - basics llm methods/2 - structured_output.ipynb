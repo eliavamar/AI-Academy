{
 "cells": [
  {
   "cell_type": "code",
   "execution_count": null,
   "metadata": {},
   "outputs": [],
   "source": [
    "# install package\n",
    "%pip install -U langchain-core langchain langchain_ollama "
   ]
  },
  {
   "cell_type": "code",
   "execution_count": null,
   "metadata": {},
   "outputs": [],
   "source": [
    "from pydantic import BaseModel, Field\n",
    "from typing import List\n",
    "from langchain_ollama import ChatOllama \n",
    "\n",
    "# Define your Pydantic model for structured output\n",
    "class MovieRecommendation(BaseModel):\n",
    "    title: str = Field(description=\"Title of the movie\")\n",
    "    year: int = Field(description=\"Year the movie was released\")\n",
    "    genre: str = Field(description=\"Primary genre of the movie\")\n",
    "    director: str = Field(description=\"Director of the movie\")\n",
    "    reasons: List[str] = Field(description=\"Reasons why this movie is recommended\")\n",
    "\n",
    "\n",
    "llm = ChatOllama(model=\"llama3.1\")\n",
    "structured_llm = llm.with_structured_output(MovieRecommendation)"
   ]
  },
  {
   "cell_type": "code",
   "execution_count": null,
   "metadata": {},
   "outputs": [],
   "source": [
    "from langchain.prompts import PromptTemplate\n",
    "\n",
    "# Create a template that includes instructions for the structured output\n",
    "template = \"\"\"\n",
    "Recommend a movie based on the following preferences: {preferences}.\n",
    "\"\"\"\n",
    "\n",
    "prompt = PromptTemplate(\n",
    "    template=template,\n",
    "    input_variables=[\"preferences\"], ##A list of the names of the variables whose values are required as inputs to the prompt.\n",
    ")\n",
    "\n",
    "# Generate and parse the response\n",
    "preferences = \"I enjoy science fiction movies with philosophical themes\"\n",
    "formatted_prompt = prompt.format(preferences=preferences)\n",
    "\n",
    "output = structured_llm.invoke(formatted_prompt)\n",
    "\n",
    "try:\n",
    "    print(\"Output:\", output)\n",
    "except Exception as e:\n",
    "    print(f\"Error parsing output: {e}\")\n",
    "    print(\"Raw output:\")\n",
    "    print(output)"
   ]
  },
  {
   "cell_type": "code",
   "execution_count": null,
   "metadata": {},
   "outputs": [],
   "source": []
  }
 ],
 "metadata": {
  "kernelspec": {
   "display_name": ".venv",
   "language": "python",
   "name": "python3"
  },
  "language_info": {
   "codemirror_mode": {
    "name": "ipython",
    "version": 3
   },
   "file_extension": ".py",
   "mimetype": "text/x-python",
   "name": "python",
   "nbconvert_exporter": "python",
   "pygments_lexer": "ipython3",
   "version": "3.13.1"
  }
 },
 "nbformat": 4,
 "nbformat_minor": 2
}
